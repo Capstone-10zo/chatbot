{
 "cells": [
  {
   "cell_type": "code",
   "execution_count": 1,
   "metadata": {},
   "outputs": [],
   "source": [
    "from qna_bot import load_qna_bot"
   ]
  },
  {
   "cell_type": "code",
   "execution_count": 2,
   "metadata": {},
   "outputs": [],
   "source": [
    "# 저장된 파일 로드 -> QnABot 클래스 인스턴스 생성\n",
    "loaded_qna_bot = load_qna_bot('chatbot_model.pkl')"
   ]
  },
  {
   "cell_type": "code",
   "execution_count": 3,
   "metadata": {},
   "outputs": [
    {
     "name": "stdout",
     "output_type": "stream",
     "text": [
      "입력 질문: 강아지가 밥을 안먹어\n",
      "유사한 질문: 강아지가 밥을 잘 안먹어요 \n",
      "예측 답변: 강아지가 밥을 먹지 않을 때는 첫째로 질병으로 인해 식욕이 떨어진 경우 둘째로 사료가 맛이 없는 경우 세째로 사람음식으로 인해 사료를 거부하는 경우로 나눌 수 있습니다. 사람음식은 절대로 주지 말고 사료를 교체하는 것도 한 방법입니다. 계속해서 사료를 거부하면 병원에서 정확한 진단과 처치 받아 보시길 권해 드립니다.\n",
      "유사도: 0.930612597870005\n"
     ]
    }
   ],
   "source": [
    "# 사용자 입력에 대한 답변 예측\n",
    "user_input = '강아지가 밥을 안먹어'\n",
    "similar_question, predicted_answer, similarity_score = loaded_qna_bot.predict_answer(user_input)\n",
    "\n",
    "# 결과 출력\n",
    "print('입력 질문:', user_input)\n",
    "print('유사한 질문:', similar_question)\n",
    "print('예측 답변:', predicted_answer)\n",
    "print('유사도:', similarity_score)"
   ]
  }
 ],
 "metadata": {
  "kernelspec": {
   "display_name": "Python 3",
   "language": "python",
   "name": "python3"
  },
  "language_info": {
   "codemirror_mode": {
    "name": "ipython",
    "version": 3
   },
   "file_extension": ".py",
   "mimetype": "text/x-python",
   "name": "python",
   "nbconvert_exporter": "python",
   "pygments_lexer": "ipython3",
   "version": "3.9.10"
  }
 },
 "nbformat": 4,
 "nbformat_minor": 2
}
