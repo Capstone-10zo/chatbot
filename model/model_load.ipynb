{
 "cells": [
  {
   "cell_type": "code",
   "execution_count": 1,
   "metadata": {},
   "outputs": [],
   "source": [
    "from qna_bot import load_qna_bot"
   ]
  },
  {
   "cell_type": "code",
   "execution_count": 2,
   "metadata": {},
   "outputs": [],
   "source": [
    "# 저장된 파일 로드 -> QnABot 클래스 인스턴스 생성\n",
    "loaded_qna_bot = load_qna_bot('chatbot_model.pkl')"
   ]
  },
  {
   "cell_type": "code",
   "execution_count": 3,
   "metadata": {},
   "outputs": [
    {
     "name": "stdout",
     "output_type": "stream",
     "text": [
      "입력 질문: 안녕\n",
      "유사한 질문: 냥이가눈꼽이심하게낍니다양쪽에요눈물도납니다 \n",
      "예측 답변: 죄송합니다. 질문을 이해하지 못했어요.\n",
      "유사도: 0.6629747470931089\n"
     ]
    }
   ],
   "source": [
    "# 사용자 입력에 대한 답변 예측\n",
    "user_input = '안녕'\n",
    "similar_question, predicted_answer, similarity_score = loaded_qna_bot.predict_answer(user_input)\n",
    "\n",
    "# 결과 출력\n",
    "print('입력 질문:', user_input)\n",
    "print('유사한 질문:', similar_question)\n",
    "print('예측 답변:', predicted_answer)\n",
    "print('유사도:', similarity_score)"
   ]
  }
 ],
 "metadata": {
  "kernelspec": {
   "display_name": "Python 3",
   "language": "python",
   "name": "python3"
  },
  "language_info": {
   "codemirror_mode": {
    "name": "ipython",
    "version": 3
   },
   "file_extension": ".py",
   "mimetype": "text/x-python",
   "name": "python",
   "nbconvert_exporter": "python",
   "pygments_lexer": "ipython3",
   "version": "3.9.10"
  }
 },
 "nbformat": 4,
 "nbformat_minor": 2
}
